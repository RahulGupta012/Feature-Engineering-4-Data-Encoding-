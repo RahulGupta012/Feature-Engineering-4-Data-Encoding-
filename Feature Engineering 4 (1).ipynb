{
 "cells": [
  {
   "cell_type": "markdown",
   "id": "bc5c0506-d16a-457c-8340-7759ca6e5f71",
   "metadata": {},
   "source": [
    "# FEATURE ENGINEERING 04 (DATA ENCODING)"
   ]
  },
  {
   "cell_type": "markdown",
   "id": "806ba87e-fc9e-4813-8aee-742db7d98cbb",
   "metadata": {},
   "source": [
    "_________________________________________________________________________________________"
   ]
  },
  {
   "cell_type": "markdown",
   "id": "6cfb57be-7880-47e6-9f55-4a4a2946dbc3",
   "metadata": {},
   "source": [
    "# What is the difference between Ordinal Encoding and Label Encoding? Provide an example of when you might choose one over the other."
   ]
  },
  {
   "cell_type": "markdown",
   "id": "2b144077-8a87-49ac-90b5-43a69c853164",
   "metadata": {},
   "source": [
    "In the label Encoding, the order of data is not so important. It encoding the data according to alphabats.While in Ordinal Encoding the order is most important thing and it encode the data according to numeric rank of the data.\n",
    "\n",
    "- Example for selecting the ordinal encoding\n",
    "\n",
    "let's say we have a review bar and the reviwes are like; better, bad, good, perfect \n",
    "then we can encode such data as rank of rioughtness;  perfect, better, good, bad\n",
    "\n",
    "- example for selecting the label encoding\n",
    "\n",
    "lets take the example of colurs like; white , black, red  , green\n",
    "here order is not an importnat thing but the label encoder, encode such cetagorical data as black, green, red, white"
   ]
  },
  {
   "cell_type": "markdown",
   "id": "263f67ef-4979-46bd-9c29-c9f1051fa853",
   "metadata": {},
   "source": [
    " It is used when columns are less in a dataset.So that the repitation of the features must be less  and model not getting slow. Because the Ordinal encoder creat a individual feature for each. And use the "
   ]
  },
  {
   "cell_type": "markdown",
   "id": "3daa557e-888e-4c76-96fa-64a749112dbc",
   "metadata": {},
   "source": [
    "# Q. Explain how Target Guided Ordinal Encoding works and provide an example of when you might use it in a machine learning project."
   ]
  },
  {
   "cell_type": "markdown",
   "id": "edf64614-bc88-4243-a905-92bcf2665925",
   "metadata": {},
   "source": [
    "The target guided ordinal encoding, can only be apply for those categorical data which are assembled with a numerical data. That numerical data is called target data for that specific categorical data. And by going the first step, we calculate the mean of features and replace that mean with that specific categorical feature. This technique is called Target Guided Ordinal Encoding.\n",
    "\n",
    "example; let's say df is a data set.\n"
   ]
  },
  {
   "cell_type": "code",
   "execution_count": 35,
   "id": "f1b99a9c-71e8-4d99-93a0-3f98b3fa3274",
   "metadata": {},
   "outputs": [
    {
     "data": {
      "text/html": [
       "<div>\n",
       "<style scoped>\n",
       "    .dataframe tbody tr th:only-of-type {\n",
       "        vertical-align: middle;\n",
       "    }\n",
       "\n",
       "    .dataframe tbody tr th {\n",
       "        vertical-align: top;\n",
       "    }\n",
       "\n",
       "    .dataframe thead th {\n",
       "        text-align: right;\n",
       "    }\n",
       "</style>\n",
       "<table border=\"1\" class=\"dataframe\">\n",
       "  <thead>\n",
       "    <tr style=\"text-align: right;\">\n",
       "      <th></th>\n",
       "      <th>player_name</th>\n",
       "      <th>Runs</th>\n",
       "    </tr>\n",
       "  </thead>\n",
       "  <tbody>\n",
       "    <tr>\n",
       "      <th>0</th>\n",
       "      <td>Sachine</td>\n",
       "      <td>122</td>\n",
       "    </tr>\n",
       "    <tr>\n",
       "      <th>1</th>\n",
       "      <td>Kapil</td>\n",
       "      <td>212</td>\n",
       "    </tr>\n",
       "    <tr>\n",
       "      <th>2</th>\n",
       "      <td>Virat</td>\n",
       "      <td>434</td>\n",
       "    </tr>\n",
       "    <tr>\n",
       "      <th>3</th>\n",
       "      <td>ali</td>\n",
       "      <td>444</td>\n",
       "    </tr>\n",
       "    <tr>\n",
       "      <th>4</th>\n",
       "      <td>sachine</td>\n",
       "      <td>566</td>\n",
       "    </tr>\n",
       "    <tr>\n",
       "      <th>5</th>\n",
       "      <td>ali</td>\n",
       "      <td>767</td>\n",
       "    </tr>\n",
       "  </tbody>\n",
       "</table>\n",
       "</div>"
      ],
      "text/plain": [
       "  player_name  Runs\n",
       "0     Sachine   122\n",
       "1       Kapil   212\n",
       "2       Virat   434\n",
       "3         ali   444\n",
       "4     sachine   566\n",
       "5         ali   767"
      ]
     },
     "execution_count": 35,
     "metadata": {},
     "output_type": "execute_result"
    }
   ],
   "source": [
    "data= {'player_name': ['Sachine', 'Kapil', 'Virat', 'ali', 'sachine', 'ali'], 'Runs': [122,212,434,444,566,767]}\n",
    "import pandas as pd\n",
    "df=pd.DataFrame(data)\n",
    "df"
   ]
  },
  {
   "cell_type": "code",
   "execution_count": 36,
   "id": "a191b45a-a50c-4e9d-8bcd-7cdcd1ff2245",
   "metadata": {},
   "outputs": [
    {
     "data": {
      "text/plain": [
       "{'Kapil': 212.0,\n",
       " 'Sachine': 122.0,\n",
       " 'Virat': 434.0,\n",
       " 'ali': 605.5,\n",
       " 'sachine': 566.0}"
      ]
     },
     "execution_count": 36,
     "metadata": {},
     "output_type": "execute_result"
    }
   ],
   "source": [
    "mean=df.groupby('player_name')['Runs'].mean().to_dict()\n",
    "mean"
   ]
  },
  {
   "cell_type": "code",
   "execution_count": 37,
   "id": "aa2ad5ff-cff9-4fdb-9ece-d9e3658c3bde",
   "metadata": {},
   "outputs": [],
   "source": [
    "df['player_name_encoded'] = df['player_name'].map(mean)"
   ]
  },
  {
   "cell_type": "code",
   "execution_count": 38,
   "id": "c7161fc1-78f2-41df-b820-824290f350f0",
   "metadata": {},
   "outputs": [
    {
     "data": {
      "text/html": [
       "<div>\n",
       "<style scoped>\n",
       "    .dataframe tbody tr th:only-of-type {\n",
       "        vertical-align: middle;\n",
       "    }\n",
       "\n",
       "    .dataframe tbody tr th {\n",
       "        vertical-align: top;\n",
       "    }\n",
       "\n",
       "    .dataframe thead th {\n",
       "        text-align: right;\n",
       "    }\n",
       "</style>\n",
       "<table border=\"1\" class=\"dataframe\">\n",
       "  <thead>\n",
       "    <tr style=\"text-align: right;\">\n",
       "      <th></th>\n",
       "      <th>player_name</th>\n",
       "      <th>Runs</th>\n",
       "      <th>player_name_encoded</th>\n",
       "    </tr>\n",
       "  </thead>\n",
       "  <tbody>\n",
       "    <tr>\n",
       "      <th>0</th>\n",
       "      <td>Sachine</td>\n",
       "      <td>122</td>\n",
       "      <td>122.0</td>\n",
       "    </tr>\n",
       "    <tr>\n",
       "      <th>1</th>\n",
       "      <td>Kapil</td>\n",
       "      <td>212</td>\n",
       "      <td>212.0</td>\n",
       "    </tr>\n",
       "    <tr>\n",
       "      <th>2</th>\n",
       "      <td>Virat</td>\n",
       "      <td>434</td>\n",
       "      <td>434.0</td>\n",
       "    </tr>\n",
       "    <tr>\n",
       "      <th>3</th>\n",
       "      <td>ali</td>\n",
       "      <td>444</td>\n",
       "      <td>605.5</td>\n",
       "    </tr>\n",
       "    <tr>\n",
       "      <th>4</th>\n",
       "      <td>sachine</td>\n",
       "      <td>566</td>\n",
       "      <td>566.0</td>\n",
       "    </tr>\n",
       "    <tr>\n",
       "      <th>5</th>\n",
       "      <td>ali</td>\n",
       "      <td>767</td>\n",
       "      <td>605.5</td>\n",
       "    </tr>\n",
       "  </tbody>\n",
       "</table>\n",
       "</div>"
      ],
      "text/plain": [
       "  player_name  Runs  player_name_encoded\n",
       "0     Sachine   122                122.0\n",
       "1       Kapil   212                212.0\n",
       "2       Virat   434                434.0\n",
       "3         ali   444                605.5\n",
       "4     sachine   566                566.0\n",
       "5         ali   767                605.5"
      ]
     },
     "execution_count": 38,
     "metadata": {},
     "output_type": "execute_result"
    }
   ],
   "source": [
    "df"
   ]
  },
  {
   "cell_type": "markdown",
   "id": "30b0ace7-f648-488c-8b49-92d7f22c97a3",
   "metadata": {},
   "source": [
    "# Define covariance and explain why it is important in statistical analysis. How is covariance calculated?"
   ]
  },
  {
   "cell_type": "markdown",
   "id": "1454b5c9-f072-4250-9626-4d8501597fc9",
   "metadata": {},
   "source": [
    "covariance is a measure of the relationship between two random variables. \n",
    "\n",
    "- lets assume, there are two variable x and y. so if the coveriance of x and y is +ve then it's mean if x is increasing then y is also increasing, in the other words they are proportional to each other.\n",
    "\n",
    "- But if the situation is just opposed, the coverience of x and y is in -ve then, the realtionship between them will also reverse, it will be inversaly propostional to each other, which means if x is increasing then y is decresing.\n",
    "\n",
    "- for calculating the covarience there is a farmula ;\n",
    "\n",
    "       cov(x,y)= n sigma i=1 . (Xi-X bar)* (Yi-Y bar)/ x-1\n",
    "\n",
    " \n",
    " - where Xi = data points of x, \n",
    "      X bar= Sample mean of x"
   ]
  },
  {
   "cell_type": "markdown",
   "id": "6e4597ca-b73c-4579-8eca-ced9bcb2b0e0",
   "metadata": {},
   "source": [
    "# For a dataset with the following categorical variables: Color (red, green, blue), Size (small, medium,large), and Material (wood, metal, plastic), perform label encoding using Python's scikit-learn library.Show your code and explain the output."
   ]
  },
  {
   "cell_type": "code",
   "execution_count": 54,
   "id": "8a6a8a7a-d3c6-42f2-837a-5b862a86fe34",
   "metadata": {},
   "outputs": [],
   "source": [
    "Data={'color': ['red', 'green', 'blue'], 'size': ['small', 'medium', 'large'], 'material': ['wood', 'metal', 'plastic']}"
   ]
  },
  {
   "cell_type": "code",
   "execution_count": 55,
   "id": "5fd6c21c-9931-4c41-873c-fd1ea3d11fe4",
   "metadata": {},
   "outputs": [
    {
     "data": {
      "text/html": [
       "<div>\n",
       "<style scoped>\n",
       "    .dataframe tbody tr th:only-of-type {\n",
       "        vertical-align: middle;\n",
       "    }\n",
       "\n",
       "    .dataframe tbody tr th {\n",
       "        vertical-align: top;\n",
       "    }\n",
       "\n",
       "    .dataframe thead th {\n",
       "        text-align: right;\n",
       "    }\n",
       "</style>\n",
       "<table border=\"1\" class=\"dataframe\">\n",
       "  <thead>\n",
       "    <tr style=\"text-align: right;\">\n",
       "      <th></th>\n",
       "      <th>color</th>\n",
       "      <th>size</th>\n",
       "      <th>material</th>\n",
       "    </tr>\n",
       "  </thead>\n",
       "  <tbody>\n",
       "    <tr>\n",
       "      <th>0</th>\n",
       "      <td>red</td>\n",
       "      <td>small</td>\n",
       "      <td>wood</td>\n",
       "    </tr>\n",
       "    <tr>\n",
       "      <th>1</th>\n",
       "      <td>green</td>\n",
       "      <td>medium</td>\n",
       "      <td>metal</td>\n",
       "    </tr>\n",
       "    <tr>\n",
       "      <th>2</th>\n",
       "      <td>blue</td>\n",
       "      <td>large</td>\n",
       "      <td>plastic</td>\n",
       "    </tr>\n",
       "  </tbody>\n",
       "</table>\n",
       "</div>"
      ],
      "text/plain": [
       "   color    size material\n",
       "0    red   small     wood\n",
       "1  green  medium    metal\n",
       "2   blue   large  plastic"
      ]
     },
     "execution_count": 55,
     "metadata": {},
     "output_type": "execute_result"
    }
   ],
   "source": [
    "import pandas as pd \n",
    "df=pd.DataFrame(Data)\n",
    "df"
   ]
  },
  {
   "cell_type": "code",
   "execution_count": 56,
   "id": "6b2376e9-4e42-41f6-8609-317dad344e97",
   "metadata": {},
   "outputs": [],
   "source": [
    "from sklearn.preprocessing import LabelEncoder"
   ]
  },
  {
   "cell_type": "code",
   "execution_count": 62,
   "id": "b9f0e0b9-88b5-4f4c-ab59-07b27785b8f0",
   "metadata": {},
   "outputs": [],
   "source": [
    "label= LabelEncoder()"
   ]
  },
  {
   "cell_type": "code",
   "execution_count": 67,
   "id": "e44da1d7-e7a7-4b09-bf25-b480a9308bf8",
   "metadata": {},
   "outputs": [
    {
     "data": {
      "text/plain": [
       "array([2, 1, 0])"
      ]
     },
     "execution_count": 67,
     "metadata": {},
     "output_type": "execute_result"
    }
   ],
   "source": [
    "label.fit_transform(df['color'])"
   ]
  },
  {
   "cell_type": "code",
   "execution_count": 70,
   "id": "74d7657a-f641-43f2-89ec-a7df4e65d507",
   "metadata": {},
   "outputs": [
    {
     "data": {
      "text/plain": [
       "array([2, 1, 0])"
      ]
     },
     "execution_count": 70,
     "metadata": {},
     "output_type": "execute_result"
    }
   ],
   "source": [
    "label.fit_transform(df['size'])"
   ]
  },
  {
   "cell_type": "code",
   "execution_count": 69,
   "id": "5829b403-a0f5-42e8-94d9-f1c914d6dd7d",
   "metadata": {},
   "outputs": [
    {
     "data": {
      "text/plain": [
       "array([2, 0, 1])"
      ]
     },
     "execution_count": 69,
     "metadata": {},
     "output_type": "execute_result"
    }
   ],
   "source": [
    "label.fit_transform(df['material'])"
   ]
  },
  {
   "cell_type": "markdown",
   "id": "bab81e6a-131a-4d7c-84e0-a89ca061120e",
   "metadata": {},
   "source": [
    "# Q5. Calculate the covariance matrix for the following variables in a dataset: Age, Income, and Educatiolevel. Interpret the results."
   ]
  },
  {
   "cell_type": "code",
   "execution_count": 77,
   "id": "459af254-f21e-4563-8429-1f102048435c",
   "metadata": {},
   "outputs": [],
   "source": [
    "data1= {'age': [22,24,25,20,19,30], 'income': [12000, 43000, 34000, 42000, 56000, 8000], 'educatiolevel':[13,16,12,21,15,17]}"
   ]
  },
  {
   "cell_type": "code",
   "execution_count": 80,
   "id": "7d2a957a-17f3-42f1-a8f4-21e7afb4955e",
   "metadata": {},
   "outputs": [
    {
     "data": {
      "text/html": [
       "<div>\n",
       "<style scoped>\n",
       "    .dataframe tbody tr th:only-of-type {\n",
       "        vertical-align: middle;\n",
       "    }\n",
       "\n",
       "    .dataframe tbody tr th {\n",
       "        vertical-align: top;\n",
       "    }\n",
       "\n",
       "    .dataframe thead th {\n",
       "        text-align: right;\n",
       "    }\n",
       "</style>\n",
       "<table border=\"1\" class=\"dataframe\">\n",
       "  <thead>\n",
       "    <tr style=\"text-align: right;\">\n",
       "      <th></th>\n",
       "      <th>age</th>\n",
       "      <th>income</th>\n",
       "      <th>educatiolevel</th>\n",
       "    </tr>\n",
       "  </thead>\n",
       "  <tbody>\n",
       "    <tr>\n",
       "      <th>0</th>\n",
       "      <td>22</td>\n",
       "      <td>12000</td>\n",
       "      <td>13</td>\n",
       "    </tr>\n",
       "    <tr>\n",
       "      <th>1</th>\n",
       "      <td>24</td>\n",
       "      <td>43000</td>\n",
       "      <td>16</td>\n",
       "    </tr>\n",
       "    <tr>\n",
       "      <th>2</th>\n",
       "      <td>25</td>\n",
       "      <td>34000</td>\n",
       "      <td>12</td>\n",
       "    </tr>\n",
       "    <tr>\n",
       "      <th>3</th>\n",
       "      <td>20</td>\n",
       "      <td>42000</td>\n",
       "      <td>21</td>\n",
       "    </tr>\n",
       "    <tr>\n",
       "      <th>4</th>\n",
       "      <td>19</td>\n",
       "      <td>56000</td>\n",
       "      <td>15</td>\n",
       "    </tr>\n",
       "    <tr>\n",
       "      <th>5</th>\n",
       "      <td>30</td>\n",
       "      <td>8000</td>\n",
       "      <td>17</td>\n",
       "    </tr>\n",
       "  </tbody>\n",
       "</table>\n",
       "</div>"
      ],
      "text/plain": [
       "   age  income  educatiolevel\n",
       "0   22   12000             13\n",
       "1   24   43000             16\n",
       "2   25   34000             12\n",
       "3   20   42000             21\n",
       "4   19   56000             15\n",
       "5   30    8000             17"
      ]
     },
     "execution_count": 80,
     "metadata": {},
     "output_type": "execute_result"
    }
   ],
   "source": [
    "import pandas as pd\n",
    "df1=pd.DataFrame(data)\n",
    "df1"
   ]
  },
  {
   "cell_type": "code",
   "execution_count": 82,
   "id": "a858048e-cccc-4aa1-a159-7ad6db84d7e7",
   "metadata": {},
   "outputs": [
    {
     "data": {
      "text/plain": [
       "<bound method DataFrame.cov of    age  income  educatiolevel\n",
       "0   22   12000             13\n",
       "1   24   43000             16\n",
       "2   25   34000             12\n",
       "3   20   42000             21\n",
       "4   19   56000             15\n",
       "5   30    8000             17>"
      ]
     },
     "execution_count": 82,
     "metadata": {},
     "output_type": "execute_result"
    }
   ],
   "source": [
    "df1.cov"
   ]
  },
  {
   "cell_type": "markdown",
   "id": "e961d2b6-14fa-4d51-b43b-cafc5774e72a",
   "metadata": {},
   "source": [
    "# Q6. You are working on a machine learning project with a dataset containing several categorical variables, including \"Gender\" (Male/Female), \"Education Level\" (High School/Bachelor's/Master's/PhD), and \"Employment Status\" (Unemployed/Part-Time/Full-Time). Which encoding method would you use for each variable, and why?"
   ]
  },
  {
   "cell_type": "markdown",
   "id": "4064f36e-d498-4a82-9313-7eba7e6c2aef",
   "metadata": {},
   "source": [
    "# You are analyzing a dataset with two continuous variables, \"Temperature\" and \"Humidity\", and two categorical variables, \"Weather Condition\" (Sunny/Cloudy/Rainy) and \"Wind Direction\" (North/South/east/West). Calculate the covariance between each pair of variables and interpret the results."
   ]
  },
  {
   "cell_type": "code",
   "execution_count": 87,
   "id": "890684ed-fb7a-433a-9288-ba1698b91c09",
   "metadata": {},
   "outputs": [
    {
     "data": {
      "text/html": [
       "<div>\n",
       "<style scoped>\n",
       "    .dataframe tbody tr th:only-of-type {\n",
       "        vertical-align: middle;\n",
       "    }\n",
       "\n",
       "    .dataframe tbody tr th {\n",
       "        vertical-align: top;\n",
       "    }\n",
       "\n",
       "    .dataframe thead th {\n",
       "        text-align: right;\n",
       "    }\n",
       "</style>\n",
       "<table border=\"1\" class=\"dataframe\">\n",
       "  <thead>\n",
       "    <tr style=\"text-align: right;\">\n",
       "      <th></th>\n",
       "      <th>Temperature</th>\n",
       "      <th>Humidity</th>\n",
       "      <th>Weather Condition</th>\n",
       "      <th>Wind Direction</th>\n",
       "    </tr>\n",
       "  </thead>\n",
       "  <tbody>\n",
       "    <tr>\n",
       "      <th>0</th>\n",
       "      <td>22</td>\n",
       "      <td>66</td>\n",
       "      <td>Sunny</td>\n",
       "      <td>North</td>\n",
       "    </tr>\n",
       "    <tr>\n",
       "      <th>1</th>\n",
       "      <td>33</td>\n",
       "      <td>65</td>\n",
       "      <td>Cloudy</td>\n",
       "      <td>South</td>\n",
       "    </tr>\n",
       "    <tr>\n",
       "      <th>2</th>\n",
       "      <td>44</td>\n",
       "      <td>76</td>\n",
       "      <td>Rainy</td>\n",
       "      <td>East</td>\n",
       "    </tr>\n",
       "    <tr>\n",
       "      <th>3</th>\n",
       "      <td>12</td>\n",
       "      <td>45</td>\n",
       "      <td>Sunny</td>\n",
       "      <td>West</td>\n",
       "    </tr>\n",
       "    <tr>\n",
       "      <th>4</th>\n",
       "      <td>32</td>\n",
       "      <td>60</td>\n",
       "      <td>Cloudy</td>\n",
       "      <td>North</td>\n",
       "    </tr>\n",
       "  </tbody>\n",
       "</table>\n",
       "</div>"
      ],
      "text/plain": [
       "   Temperature  Humidity Weather Condition Wind Direction\n",
       "0           22        66             Sunny          North\n",
       "1           33        65            Cloudy          South\n",
       "2           44        76             Rainy           East\n",
       "3           12        45             Sunny           West\n",
       "4           32        60            Cloudy          North"
      ]
     },
     "execution_count": 87,
     "metadata": {},
     "output_type": "execute_result"
    }
   ],
   "source": [
    "import pandas as pd\n",
    "\n",
    "df = pd.DataFrame({\n",
    "    'Temperature': [22,33,44,12,32],\n",
    "    'Humidity': [66,65,76,45,60],\n",
    "    'Weather Condition': ['Sunny', 'Cloudy', 'Rainy', 'Sunny', 'Cloudy'],\n",
    "    'Wind Direction': ['North', 'South', 'East', 'West', 'North']\n",
    "})\n",
    "df"
   ]
  },
  {
   "cell_type": "code",
   "execution_count": 88,
   "id": "95b2ec4d-0122-4669-80aa-acc0b3ad440c",
   "metadata": {},
   "outputs": [],
   "source": [
    "cov_temp_humidity = df['Temperature'].cov(df['Humidity'])"
   ]
  },
  {
   "cell_type": "code",
   "execution_count": 89,
   "id": "0c0dc245-d32f-46c5-8aad-74ec68e56a97",
   "metadata": {},
   "outputs": [
    {
     "data": {
      "text/plain": [
       "119.45"
      ]
     },
     "execution_count": 89,
     "metadata": {},
     "output_type": "execute_result"
    }
   ],
   "source": [
    "cov_temp_humidity"
   ]
  },
  {
   "cell_type": "code",
   "execution_count": null,
   "id": "c8682e7c-76dd-45cd-b5e5-2d498fd161c0",
   "metadata": {},
   "outputs": [],
   "source": []
  }
 ],
 "metadata": {
  "kernelspec": {
   "display_name": "Python 3 (ipykernel)",
   "language": "python",
   "name": "python3"
  },
  "language_info": {
   "codemirror_mode": {
    "name": "ipython",
    "version": 3
   },
   "file_extension": ".py",
   "mimetype": "text/x-python",
   "name": "python",
   "nbconvert_exporter": "python",
   "pygments_lexer": "ipython3",
   "version": "3.10.8"
  }
 },
 "nbformat": 4,
 "nbformat_minor": 5
}
